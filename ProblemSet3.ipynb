{
 "cells": [
  {
   "cell_type": "code",
   "execution_count": 29,
   "metadata": {},
   "outputs": [
    {
     "name": "stdout",
     "output_type": "stream",
     "text": [
      "Highest water level is 6.647 and it occured on 2018-10-10 18:06\n"
     ]
    }
   ],
   "source": [
    "#Problem 1\n",
    "fhand = open('/blue/bsc4452/share/Class_Files/data/CO-OPS__8729108__wl.csv')\n",
    "\n",
    "#Creating lists with water levels and dates\n",
    "levels=[]\n",
    "dates=[]\n",
    "\n",
    "for line in fhand:\n",
    "    line = line.strip()\n",
    "    try:\n",
    "        levels.append(float(line[17:22]))\n",
    "        dates.append(line[:16])\n",
    "    except:\n",
    "        pass\n",
    "\n",
    "#Finding highest water level\n",
    "x = levels.index(max(levels))\n",
    "\n",
    "print(f\"Highest water level is {max(levels)} and it occured on {dates[x]}\")"
   ]
  },
  {
   "cell_type": "code",
   "execution_count": 35,
   "metadata": {},
   "outputs": [
    {
     "name": "stdout",
     "output_type": "stream",
     "text": [
      "Minimum water level: 1.621 Occurred: 2018-10-11 15:36\n",
      "Maximum water level: 6.647 Occurred: 2018-10-10 18:06\n",
      "Average water level: 2.9823232044198904\n"
     ]
    }
   ],
   "source": [
    "#Problem 2\n",
    "fhand = open('/blue/bsc4452/share/Class_Files/data/CO-OPS__8729108__wl.csv')\n",
    "\n",
    "#Creating lists with water levels and dates\n",
    "levels=[]\n",
    "dates=[]\n",
    "\n",
    "for line in fhand:\n",
    "    line = line.strip()\n",
    "    try:\n",
    "        levels.append(float(line[17:22]))\n",
    "        dates.append(line[:16])\n",
    "    except:\n",
    "        pass\n",
    "\n",
    "#Finding max, min, and avg\n",
    "greatest = levels.index(max(levels))\n",
    "least = levels.index(min(levels))\n",
    "\n",
    "print(f\"Minimum water level: {min(levels)} Occurred: {dates[least]}\")\n",
    "print(f\"Maximum water level: {max(levels)} Occurred: {dates[greatest]}\")\n",
    "print(f\"Average water level: {sum(levels)/len(levels)}\")"
   ]
  },
  {
   "cell_type": "code",
   "execution_count": 34,
   "metadata": {},
   "outputs": [
    {
     "name": "stdout",
     "output_type": "stream",
     "text": [
      "The fastest rise in water was 0.6400000000000006 and it occurred between 2018-10-10 17:36 and 2018-10-10 17:42\n"
     ]
    }
   ],
   "source": [
    "#Problem 3\n",
    "fhand = open('/blue/bsc4452/share/Class_Files/data/CO-OPS__8729108__wl.csv')\n",
    "\n",
    "#Creating lists with water levels and dates\n",
    "levels=[]\n",
    "dates=[]\n",
    "\n",
    "for line in fhand:\n",
    "    line = line.strip()\n",
    "    try:\n",
    "        levels.append(float(line[17:22]))\n",
    "        dates.append(line[:16])\n",
    "    except:\n",
    "        pass\n",
    "\n",
    "#Creating list of change in water levels\n",
    "index = 0\n",
    "water_rise=[]\n",
    "\n",
    "for level in levels:\n",
    "    try:\n",
    "        diff = levels[index+1] - levels[index]\n",
    "        water_rise.append(diff)   \n",
    "        index = index + 1\n",
    "    except:\n",
    "        pass\n",
    "\n",
    "#Finding largest rise in water level\n",
    "x = water_rise.index(max(water_rise))\n",
    "print(f'The fastest rise in water was {max(water_rise)} and it occurred between {dates[x]} and {dates[x+1]}')"
   ]
  },
  {
   "cell_type": "code",
   "execution_count": 27,
   "metadata": {},
   "outputs": [
    {
     "name": "stdout",
     "output_type": "stream",
     "text": [
      "Warning! Increase in water level 0.3019999999999996 is greater than 0.25\n",
      "Warning! Increase in water level 0.2789999999999999 is greater than 0.25\n",
      "Warning! Increase in water level 0.6400000000000006 is greater than 0.25\n",
      "Warning! Water level 5.591 is greater than 5.0\n",
      "Warning! Increase in water level 0.367 is greater than 0.25\n",
      "Warning! Water level 5.958 is greater than 5.0\n",
      "Warning! Increase in water level 0.44599999999999973 is greater than 0.25\n",
      "Warning! Water level 6.404 is greater than 5.0\n",
      "Warning! Water level 6.575 is greater than 5.0\n",
      "Warning! Water level 6.647 is greater than 5.0\n",
      "Warning! Water level 6.503 is greater than 5.0\n",
      "Warning! Water level 6.309 is greater than 5.0\n",
      "Warning! Water level 6.024 is greater than 5.0\n",
      "Warning! Water level 5.725 is greater than 5.0\n",
      "Warning! Water level 5.699 is greater than 5.0\n",
      "Warning! Water level 5.449 is greater than 5.0\n",
      "Warning! Water level 5.338 is greater than 5.0\n",
      "Warning! Water level 5.22 is greater than 5.0\n"
     ]
    }
   ],
   "source": [
    "#Problem 4\n",
    "fhand = open('/blue/bsc4452/share/Class_Files/data/CO-OPS__8729108__wl.csv')\n",
    "\n",
    "#Creating list with water levels\n",
    "levels=[]\n",
    " \n",
    "for line in fhand:\n",
    "    line = line.strip()\n",
    "    try:\n",
    "        levels.append(float(line[17:22]))\n",
    "    except:\n",
    "        pass\n",
    "\n",
    "#Creating list of change in water levels\n",
    "wr_index = 0\n",
    "water_rise=[]\n",
    "\n",
    "for level in levels:\n",
    "    try:\n",
    "        diff = levels[wr_index+1] - levels[wr_index]\n",
    "        water_rise.append(diff)   \n",
    "        wr_index = wr_index + 1\n",
    "    except:\n",
    "        pass\n",
    "\n",
    "#Checking to see if water levels/differences are too high\n",
    "index = 0\n",
    "index_1 = 0\n",
    "length = len(water_rise)\n",
    "\n",
    "for level in levels:\n",
    "    if levels[index] > 5.000:\n",
    "        print(f'Warning! Water level {levels[index]} is greater than 5.0')\n",
    "        index = index + 1\n",
    "    else:\n",
    "        index = index +1\n",
    "    if index > length:\n",
    "        continue\n",
    "    if water_rise[index_1] > 0.25:\n",
    "        print(f'Warning! Increase in water level {water_rise[index_1]} is greater than 0.25')\n",
    "        index_1 = index_1 + 1\n",
    "    else:\n",
    "        index_1 = index_1 + 1\n",
    "#I excluded the line without a water level when making my initial levels list\n",
    "#and I am not sure how to get that line into my water level list. "
   ]
  }
 ],
 "metadata": {
  "kernelspec": {
   "display_name": "Python 3.8 (full)",
   "language": "python",
   "name": "python3-3.8-ufrc"
  },
  "language_info": {
   "codemirror_mode": {
    "name": "ipython",
    "version": 3
   },
   "file_extension": ".py",
   "mimetype": "text/x-python",
   "name": "python",
   "nbconvert_exporter": "python",
   "pygments_lexer": "ipython3",
   "version": "3.8.5"
  }
 },
 "nbformat": 4,
 "nbformat_minor": 4
}
